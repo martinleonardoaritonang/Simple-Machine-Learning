{
 "cells": [
  {
   "cell_type": "code",
   "execution_count": null,
   "id": "b4b22341",
   "metadata": {},
   "outputs": [],
   "source": [
    "# Martin Leonardo Aritonang\n",
    "# 10219092\n",
    "# Memprediksi diabetes menggunakan Support Vector Machine (SVM)\n",
    "\n",
    "#import the library\n",
    "\n",
    "import pandas as pd  \n",
    "import numpy as np\n",
    "from sklearn.preprocessing import StandardScaler\n",
    "from sklearn.model_selection import train_test_split\n",
    "from sklearn import svm\n",
    "from sklearn.metrics import accuracy_score\n",
    "import matplotlib.pyplot as plt"
   ]
  },
  {
   "cell_type": "code",
   "execution_count": null,
   "id": "50828272",
   "metadata": {},
   "outputs": [],
   "source": [
    "#import data dari komputer dan tampilkan 5 baris pertama\n",
    "# untuk kolom outcome \n",
    "# 0 : tidak diabetes\n",
    "# 1 : diabetes\n",
    "\n",
    "data_diabetes=pd.read_csv('diabetes fisika komputasi.csv')\n",
    "data_diabetes.head()"
   ]
  },
  {
   "cell_type": "code",
   "execution_count": null,
   "id": "41583e92",
   "metadata": {},
   "outputs": [],
   "source": [
    "# cek data apakah ada null atau tidak\n",
    "# jika false artinya tidak ada adata null\n",
    "# jika true maka ada data null\n",
    "\n",
    "data_diabetes.isnull().values.any()"
   ]
  },
  {
   "cell_type": "code",
   "execution_count": null,
   "id": "b2043ad1",
   "metadata": {},
   "outputs": [],
   "source": [
    "# menampikan banyak baris dan kolom\n",
    "\n",
    "data_diabetes.shape\n",
    "\n",
    "# hasilnya akan berupa (x,y)\n",
    "# x : banyak baris\n",
    "# y : banyak kolom"
   ]
  },
  {
   "cell_type": "code",
   "execution_count": null,
   "id": "9bc530e0",
   "metadata": {},
   "outputs": [],
   "source": [
    "#Menampilkan statistik tiap kolom dari dataset\n",
    "\n",
    "data_diabetes.describe()"
   ]
  },
  {
   "cell_type": "code",
   "execution_count": null,
   "id": "109061d2",
   "metadata": {},
   "outputs": [],
   "source": [
    "# 0 : tidak diabetes\n",
    "# 1 : diabetes\n",
    "# Menampilkan banyak orang yang tidak diabetes dan yang diabetes\n",
    "\n",
    "data_diabetes['Outcome'].value_counts()"
   ]
  },
  {
   "cell_type": "code",
   "execution_count": null,
   "id": "bd05732d",
   "metadata": {},
   "outputs": [],
   "source": [
    "#Menampilkan rata-rata seluruh kolom terhadap kolom outcome\n",
    "\n",
    "data_diabetes.groupby('Outcome').mean()"
   ]
  },
  {
   "cell_type": "code",
   "execution_count": null,
   "id": "7a155c60",
   "metadata": {},
   "outputs": [],
   "source": [
    "# Memulai machine learning\n",
    "# Pisah data menjadi fungsi dan hasil\n",
    "# x merupakan variabel\n",
    "# y merupakan hasil/tujuan\n",
    "\n",
    "a = data_diabetes.drop(columns='Outcome', axis=1)\n",
    "Y = data_diabetes['Outcome']"
   ]
  },
  {
   "cell_type": "code",
   "execution_count": null,
   "id": "e818512a",
   "metadata": {},
   "outputs": [],
   "source": [
    "#standarisasi data karena rentang tiap kolom berbeda\n",
    "#machine learning akan sulit membuat prediksi jika rentang tiap kolom beda\n",
    "\n",
    "scaler = StandardScaler()\n",
    "scaler.fit(a)\n",
    "standarisasi_a = scaler.transform(a)\n",
    "print(standarisasi_a)"
   ]
  },
  {
   "cell_type": "code",
   "execution_count": 45,
   "id": "a9a41cf1",
   "metadata": {},
   "outputs": [
    {
     "name": "stdout",
     "output_type": "stream",
     "text": [
      "(768, 8) (614, 8) (154, 8)\n"
     ]
    }
   ],
   "source": [
    "# Train test split data\n",
    "# test_size 0.2 artinya mengambil 20% data untuk di test dan sisanya untuk di train\n",
    "# random_state = 1 artinya data yang diambil untuk train dan test akan selalu sama\n",
    "\n",
    "X = standarisasi_a\n",
    "Y = data_diabetes['Outcome']\n",
    "\n",
    "X_train, X_test, Y_train, Y_test = train_test_split(X,Y,test_size = 0.2,random_state =1 )\n",
    "\n",
    "print(X.shape, X_train.shape, X_test.shape)\n"
   ]
  },
  {
   "cell_type": "code",
   "execution_count": null,
   "id": "1c360336",
   "metadata": {},
   "outputs": [],
   "source": [
    "#tentukan model machine learning\n",
    "\n",
    "model = svm.SVC(kernel ='linear')\n",
    "model.fit(X_train , Y_train)\n"
   ]
  },
  {
   "cell_type": "code",
   "execution_count": null,
   "id": "1619d2e2",
   "metadata": {},
   "outputs": [],
   "source": [
    "Y_train_prediction = model.predict(X_train)\n",
    "training_data_accuracy =  accuracy_score(Y_train_prediction , Y_train)\n",
    "\n",
    "print( 'akurasi data yang di train : ', training_data_accuracy)"
   ]
  },
  {
   "cell_type": "code",
   "execution_count": 49,
   "id": "a1959204",
   "metadata": {},
   "outputs": [
    {
     "name": "stdout",
     "output_type": "stream",
     "text": [
      "Pasien tidak menderita diebetes\n"
     ]
    },
    {
     "name": "stderr",
     "output_type": "stream",
     "text": [
      "C:\\Users\\marti\\AppData\\Local\\Programs\\Python\\Python310\\lib\\site-packages\\sklearn\\base.py:450: UserWarning: X does not have valid feature names, but StandardScaler was fitted with feature names\n",
      "  warnings.warn(\n"
     ]
    }
   ],
   "source": [
    "# ujicoba menggunakan input\n",
    "\n",
    "\n",
    "\n",
    "input = [4,110,92,0,0,37.6,0.191,30]\n",
    "\n",
    "input_data = np.array(input)\n",
    "\n",
    "#reshape array input menjadi 1 baris\n",
    "input_data_baru = input_data.reshape(1,-1)\n",
    "\n",
    "\n",
    "#lakukan standarisasi terhadap data input\n",
    "\n",
    "standarisasi_input = scaler.transform(input_data_baru)\n",
    "\n",
    "#aplikasikan machine learning\n",
    "\n",
    "hasil_predict_input = model.predict(standarisasi_input)\n",
    "\n",
    "if (hasil_predict_input == 0) : \n",
    "    print('Pasien tidak menderita diebetes')\n",
    "else:\n",
    "    print('Pasien Menderita Diabetes')\n",
    "\n"
   ]
  }
 ],
 "metadata": {
  "kernelspec": {
   "display_name": "Python 3 (ipykernel)",
   "language": "python",
   "name": "python3"
  },
  "language_info": {
   "codemirror_mode": {
    "name": "ipython",
    "version": 3
   },
   "file_extension": ".py",
   "mimetype": "text/x-python",
   "name": "python",
   "nbconvert_exporter": "python",
   "pygments_lexer": "ipython3",
   "version": "3.10.6"
  }
 },
 "nbformat": 4,
 "nbformat_minor": 5
}
